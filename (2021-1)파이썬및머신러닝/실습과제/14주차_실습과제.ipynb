{
 "cells": [
  {
   "cell_type": "markdown",
   "metadata": {
    "id": "wikW2n88wfvo"
   },
   "source": [
    "# 1번\n",
    "\n",
    "MNIST 데이터셋을 불러와 60,000개를 훈련세트로 배정합시다.  \n",
    "a. 랜덤 PCA를 사용하여 차원을 154차원으로 축소하여 보세요.  \n",
    "b. 축소한 차원 데이터셋을 이용하여 SVM분류를 해보세요.  \n",
    "c. 축소한 차원 데이터셋을 사용하여 랜덤 포레스트 분류를 훈련시켜 보세요.  \n",
    "d. 이제 테스트 셋에 위 두 개의 분류기를 평가해 보세요.\n"
   ]
  },
  {
   "cell_type": "markdown",
   "metadata": {
    "id": "QjiAaO2pwfvp"
   },
   "source": [
    "#### MNIST 데이터셋을 불러와 60,000개를 훈련세트로 배정"
   ]
  },
  {
   "cell_type": "code",
   "execution_count": 1,
   "metadata": {
    "id": "5DSuhXK4wfvq"
   },
   "outputs": [],
   "source": [
    "from sklearn import datasets\n",
    "from sklearn.model_selection import train_test_split\n",
    "\n",
    "# 1. 데이터 불러오기\n",
    "mnist = datasets.fetch_openml('mnist_784', version=1)\n",
    "\n",
    "# 학습 데이터 분리\n",
    "X, y = mnist[\"data\"], mnist[\"target\"]\n",
    "X_train, X_test, y_train, y_test = train_test_split(\n",
    "    mnist.data[:70000], mnist.target[:70000], test_size=10000, random_state=42)"
   ]
  },
  {
   "cell_type": "markdown",
   "metadata": {
    "id": "s6QUlxT6wfvr"
   },
   "source": [
    "#### a. 랜덤 PCA를 사용하여 차원을 154차원으로 축소"
   ]
  },
  {
   "cell_type": "code",
   "execution_count": 2,
   "metadata": {
    "id": "aAfTkKJIwfvr"
   },
   "outputs": [],
   "source": [
    "from sklearn.decomposition import PCA\n",
    "    \n",
    "rnd_pca = PCA(n_components=154, svd_solver=\"randomized\")\n",
    "X_train_reduced = rnd_pca.fit_transform(X_train)"
   ]
  },
  {
   "cell_type": "markdown",
   "metadata": {
    "id": "4lNB8cduwfvs"
   },
   "source": [
    "#### b. 축소한 차원 데이터셋을 이용하여 SVM분류"
   ]
  },
  {
   "cell_type": "code",
   "execution_count": 3,
   "metadata": {
    "colab": {
     "base_uri": "https://localhost:8080/"
    },
    "id": "jvFnDrEWwfvs",
    "outputId": "56d6d0fc-cd6a-4e49-e431-c54e99c1cf5e"
   },
   "outputs": [
    {
     "name": "stderr",
     "output_type": "stream",
     "text": [
      "C:\\Users\\queenSSH\\anaconda3\\lib\\site-packages\\sklearn\\svm\\_base.py:976: ConvergenceWarning: Liblinear failed to converge, increase the number of iterations.\n",
      "  warnings.warn(\"Liblinear failed to converge, increase \"\n"
     ]
    },
    {
     "data": {
      "text/plain": [
       "LinearSVC(max_iter=2000, random_state=42)"
      ]
     },
     "execution_count": 3,
     "metadata": {},
     "output_type": "execute_result"
    }
   ],
   "source": [
    "from sklearn.svm import LinearSVC\n",
    "\n",
    "svm_clf = LinearSVC(max_iter=2000, random_state=42)\n",
    "svm_clf.fit(X_train_reduced, y_train)"
   ]
  },
  {
   "cell_type": "markdown",
   "metadata": {
    "id": "rAK20_PCwfvt"
   },
   "source": [
    "#### c. 축소한 차원 데이터셋을 이용하여 랜덤 포레스트 분류"
   ]
  },
  {
   "cell_type": "code",
   "execution_count": 4,
   "metadata": {
    "colab": {
     "base_uri": "https://localhost:8080/"
    },
    "id": "KXoTy8vgwfvt",
    "outputId": "acd69918-80ab-4424-ee17-bbf6ed7c0fd9"
   },
   "outputs": [
    {
     "data": {
      "text/plain": [
       "RandomForestClassifier(n_estimators=10, random_state=42)"
      ]
     },
     "execution_count": 4,
     "metadata": {},
     "output_type": "execute_result"
    }
   ],
   "source": [
    "from sklearn.ensemble import RandomForestClassifier\n",
    "\n",
    "rnd_clf=RandomForestClassifier(n_estimators=10, random_state=42)\n",
    "\n",
    "#X_train_reduced = rnd_pca.fit_transform(X_train)\n",
    "rnd_clf.fit(X_train_reduced, y_train)"
   ]
  },
  {
   "cell_type": "markdown",
   "metadata": {
    "id": "c-evXirgwfvu"
   },
   "source": [
    "####  d. 위 두 개의 분류기를 평가"
   ]
  },
  {
   "cell_type": "code",
   "execution_count": 5,
   "metadata": {
    "colab": {
     "base_uri": "https://localhost:8080/"
    },
    "id": "VTGfbtOgwfvu",
    "outputId": "5f675896-6d35-493b-c781-315d415c9071"
   },
   "outputs": [
    {
     "name": "stderr",
     "output_type": "stream",
     "text": [
      "C:\\Users\\queenSSH\\anaconda3\\lib\\site-packages\\sklearn\\svm\\_base.py:976: ConvergenceWarning: Liblinear failed to converge, increase the number of iterations.\n",
      "  warnings.warn(\"Liblinear failed to converge, increase \"\n"
     ]
    },
    {
     "name": "stdout",
     "output_type": "stream",
     "text": [
      "LinearSVC 0.8341\n",
      "RandomForestClassifier 0.8934\n"
     ]
    }
   ],
   "source": [
    "from sklearn.metrics import accuracy_score\n",
    "\n",
    "for clf in (svm_clf, rnd_clf):\n",
    "    clf.fit(X_train_reduced, y_train)\n",
    "    X_test_reduced = rnd_pca.transform(X_test)\n",
    "    y_pred = clf.predict(X_test_reduced)\n",
    "    print(clf.__class__.__name__, accuracy_score(y_test, y_pred))"
   ]
  },
  {
   "cell_type": "markdown",
   "metadata": {
    "id": "4gh0xJ-H6r54"
   },
   "source": [
    "# 2번\n",
    "\n",
    "a. PCA 분산이 95% 차원 축소\n",
    "\n",
    "b. 축소한 차원 데이터 셋으로 랜덤포레스트\n",
    "\n",
    "c. 원래 데이터셋으로 랜덤 포레스트\n",
    "\n",
    "d. 테스트셋에 두 분류기 평가"
   ]
  },
  {
   "cell_type": "markdown",
   "metadata": {},
   "source": [
    "####  a. PCA를 사용하여 분산이 95% 유지되도록 차원을 축소하여 보세요."
   ]
  },
  {
   "cell_type": "code",
   "execution_count": 6,
   "metadata": {
    "id": "mftBFQeh7RlU"
   },
   "outputs": [],
   "source": [
    "from sklearn.decomposition import PCA\n",
    "    \n",
    "var_pca = PCA(n_components=0.95)\n",
    "X_train_redu=var_pca.fit_transform(X_train)"
   ]
  },
  {
   "cell_type": "markdown",
   "metadata": {},
   "source": [
    "####  b. 축소한 차원 데이터셋을 사용하여 랜덤 포레스트 분류를 훈련시켜 보세요."
   ]
  },
  {
   "cell_type": "code",
   "execution_count": 7,
   "metadata": {
    "colab": {
     "base_uri": "https://localhost:8080/"
    },
    "id": "t8T_1YiF8fBm",
    "outputId": "bae1b68b-d42c-4dde-b358-73203be49f17"
   },
   "outputs": [
    {
     "data": {
      "text/plain": [
       "RandomForestClassifier(random_state=42)"
      ]
     },
     "execution_count": 7,
     "metadata": {},
     "output_type": "execute_result"
    }
   ],
   "source": [
    "from sklearn.ensemble import RandomForestClassifier\n",
    "\n",
    "#X_train_redu=var_pca.fit_transform(X_train)\n",
    "\n",
    "rnd_clf=RandomForestClassifier(n_estimators=100, random_state=42)\n",
    "rnd_clf.fit(X_train_redu, y_train)"
   ]
  },
  {
   "cell_type": "markdown",
   "metadata": {},
   "source": [
    "#### c. 차원 축소하지 않은 데이터셋에 랜덤포레스트 분류를 훈련해 보세요"
   ]
  },
  {
   "cell_type": "code",
   "execution_count": 8,
   "metadata": {
    "colab": {
     "base_uri": "https://localhost:8080/"
    },
    "id": "UauTb6C29M9n",
    "outputId": "3e1cb6c9-829c-48a6-eca1-2db326ed5b5e"
   },
   "outputs": [
    {
     "data": {
      "text/plain": [
       "RandomForestClassifier(random_state=42)"
      ]
     },
     "execution_count": 8,
     "metadata": {},
     "output_type": "execute_result"
    }
   ],
   "source": [
    "from sklearn.ensemble import RandomForestClassifier\n",
    "\n",
    "rnd_clf1=RandomForestClassifier(n_estimators=100, random_state=42)\n",
    "\n",
    "#축소하지 않은 데이터 X_train, y_train\n",
    "rnd_clf1.fit(X_train, y_train)"
   ]
  },
  {
   "cell_type": "markdown",
   "metadata": {},
   "source": [
    "#### d. 이제 테스트 셋에 위 두 개의 분류기를 평가해 보세요."
   ]
  },
  {
   "cell_type": "code",
   "execution_count": 9,
   "metadata": {
    "id": "_XzAIlpS9sXG"
   },
   "outputs": [],
   "source": [
    "from sklearn.metrics import accuracy_score\n",
    "\n",
    "X_test_redu = var_pca.fit_transform(X_test)"
   ]
  },
  {
   "cell_type": "code",
   "execution_count": 10,
   "metadata": {
    "colab": {
     "base_uri": "https://localhost:8080/"
    },
    "id": "2jo9jUTSBct0",
    "outputId": "ae774605-4abd-4bb9-8843-400a128d39d9"
   },
   "outputs": [
    {
     "name": "stdout",
     "output_type": "stream",
     "text": [
      "Reduced accuracy score 0.1292\n",
      "Reduced accuracy score 0.9674\n"
     ]
    }
   ],
   "source": [
    "var_pca1 = PCA(n_components=154)\n",
    "X_test_redu = var_pca1.fit_transform(X_test)\n",
    "\n",
    "y_pred = rnd_clf.predict(X_test_redu)   \n",
    "print('Reduced accuracy score', accuracy_score(y_test, y_pred))\n",
    "\n",
    "y_pred1 = rnd_clf1.predict(X_test)\n",
    "print('Reduced accuracy score', accuracy_score(y_test, y_pred1))"
   ]
  },
  {
   "cell_type": "code",
   "execution_count": 11,
   "metadata": {
    "colab": {
     "base_uri": "https://localhost:8080/"
    },
    "id": "-fQpVnVpB-eT",
    "outputId": "ebdf2e66-8bbf-452c-81a7-cee57e62509e"
   },
   "outputs": [
    {
     "name": "stdout",
     "output_type": "stream",
     "text": [
      "Reduced accuracy score 0.947\n"
     ]
    }
   ],
   "source": [
    "var_pca = PCA(n_components=154)\n",
    "X_train_redu=var_pca.fit_transform(X_train)\n",
    "rnd_clf=RandomForestClassifier(n_estimators=100, random_state=42)\n",
    "rnd_clf.fit(X_train_redu, y_train)\n",
    "\n",
    "X_test_redu = var_pca.transform(X_test)\n",
    "\n",
    "y_pred = rnd_clf.predict(X_test_redu)   \n",
    "print('Reduced accuracy score', accuracy_score(y_test, y_pred))"
   ]
  }
 ],
 "metadata": {
  "colab": {
   "collapsed_sections": [],
   "name": "14주차 실습과제.ipynb",
   "provenance": []
  },
  "kernelspec": {
   "display_name": "Python 3",
   "language": "python",
   "name": "python3"
  },
  "language_info": {
   "codemirror_mode": {
    "name": "ipython",
    "version": 3
   },
   "file_extension": ".py",
   "mimetype": "text/x-python",
   "name": "python",
   "nbconvert_exporter": "python",
   "pygments_lexer": "ipython3",
   "version": "3.8.5"
  }
 },
 "nbformat": 4,
 "nbformat_minor": 1
}
