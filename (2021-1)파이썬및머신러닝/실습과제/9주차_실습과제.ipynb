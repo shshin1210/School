{
 "cells": [
  {
   "cell_type": "code",
   "execution_count": 1,
   "metadata": {
    "colab": {
     "base_uri": "https://localhost:8080/"
    },
    "id": "g-lwnP25HaGN",
    "outputId": "0ba2f4fe-6cfe-4664-805a-3648212ca6cb"
   },
   "outputs": [
    {
     "ename": "NameError",
     "evalue": "name 'myfile' is not defined",
     "output_type": "error",
     "traceback": [
      "\u001b[1;31m---------------------------------------------------------------------------\u001b[0m",
      "\u001b[1;31mNameError\u001b[0m                                 Traceback (most recent call last)",
      "\u001b[1;32m<ipython-input-1-4c11f58c6bd2>\u001b[0m in \u001b[0;36m<module>\u001b[1;34m\u001b[0m\n\u001b[0;32m     11\u001b[0m \u001b[1;33m\u001b[0m\u001b[0m\n\u001b[0;32m     12\u001b[0m \u001b[1;31m#pd.read_csv로 csv파일 불러오기 (pandas의 csv파일 불러오는 함수)\u001b[0m\u001b[1;33m\u001b[0m\u001b[1;33m\u001b[0m\u001b[1;33m\u001b[0m\u001b[0m\n\u001b[1;32m---> 13\u001b[1;33m \u001b[0mdata\u001b[0m \u001b[1;33m=\u001b[0m \u001b[0mpd\u001b[0m\u001b[1;33m.\u001b[0m\u001b[0mread_csv\u001b[0m\u001b[1;33m(\u001b[0m\u001b[0mio\u001b[0m\u001b[1;33m.\u001b[0m\u001b[0mBytesIO\u001b[0m\u001b[1;33m(\u001b[0m\u001b[0mmyfile\u001b[0m\u001b[1;33m[\u001b[0m\u001b[1;34m'insurance.csv'\u001b[0m\u001b[1;33m]\u001b[0m\u001b[1;33m)\u001b[0m\u001b[1;33m)\u001b[0m \u001b[1;31m#io(input, output)를 이용해 csv 파일을 다룬다\u001b[0m\u001b[1;33m\u001b[0m\u001b[1;33m\u001b[0m\u001b[0m\n\u001b[0m\u001b[0;32m     14\u001b[0m \u001b[0mdata\u001b[0m\u001b[1;33m.\u001b[0m\u001b[0mhead\u001b[0m\u001b[1;33m(\u001b[0m\u001b[1;33m)\u001b[0m \u001b[1;31m#csv 파일 출력 메소드\u001b[0m\u001b[1;33m\u001b[0m\u001b[1;33m\u001b[0m\u001b[0m\n\u001b[0;32m     15\u001b[0m \u001b[1;33m\u001b[0m\u001b[0m\n",
      "\u001b[1;31mNameError\u001b[0m: name 'myfile' is not defined"
     ]
    }
   ],
   "source": [
    "# 실습과제 1 -------------------------------------------------------------------\n",
    "import io\n",
    "import pandas as pd\n",
    "import numpy as np \n",
    "import matplotlib.pyplot as plt\n",
    "import seaborn as sns\n",
    "%matplotlib inline\n",
    "from sklearn.preprocessing import LabelEncoder\n",
    "\n",
    "#1. 데이터 설정 단계 ==================================================================\n",
    "\n",
    "#pd.read_csv로 csv파일 불러오기 (pandas의 csv파일 불러오는 함수)\n",
    "data = pd.read_csv(io.BytesIO(myfile['insurance.csv'])) #io(input, output)를 이용해 csv 파일을 다룬다\n",
    "data.head() #csv 파일 출력 메소드\n",
    "\n",
    "print('\\n================================데이터================================')\n",
    "print(data)\n",
    "X=data.iloc[:,:5].values  #age, sex, bmi, children, smoker 데이터를 행렬화\n",
    "y=data.iloc[:,6].values #expenses를 행렬화\n",
    "print(X[:5]) \n",
    "print(y[:5])\n",
    "\n",
    "label_X = LabelEncoder() #문자열을 숫자로 바꾸기 위함(성별, 흡연여부) 남성=1,여성=0,yes=1,no=0으로 변환\n",
    "X[:,1] = label_X.fit_transform(x[:,1])\n",
    "X[:,4] = label_X.fit_transform(x[:,4])\n",
    "print(\"\\n\\n================================The first five row of input variable================================ \\n\",X[:5]) #5행까지 출력 \n",
    "\n",
    "\n",
    "#2. 선형회귀 모델 생성, 시행 단계\n",
    "from sklearn.model_selection import train_test_split\n",
    "from sklearn.linear_model import LinearRegression #선형회귀 클래스\n",
    "\n",
    "print('\\n================================선형 회귀 시행 결과================================')\n",
    "X_train, X_test, y_train, y_test=train_test_split(X,y,test_size=0.20, random_state=42) # 20퍼센트를 트레이닝셋으로 결정 random_state는 난수의 초깃값을 설정한다\n",
    "lin_regressor = LinearRegression() # 선형회귀 객체 생성\n",
    "lin_regressor.fit(X_train, y_train) # training set을 이용하여 선형회귀 시행\n",
    "y_predict = lin_regressor.predict(X_test)\n",
    "score = lin_regressor.score(X_test, y_test)\n",
    "print(\"Linear Regression Acuuracy(in test set) is\", score*100) #TestSet에서의 score(정확도?)를 출력\n",
    "\n",
    "#3. 계수 출력\n",
    "\n",
    "print('\\n================================계수 출력================================')\n",
    "print(lin_regressor.intercept_, lin_regressor.coef_)\n",
    "\n",
    "\n",
    "\n",
    "\n",
    "#4. MSE 출력\n",
    "print('\\n================================MSE 출력================================')\n",
    "from sklearn.metrics import mean_squared_error #mse 모듈 불러오기\n",
    "train_mse = mean_squared_error(lin_regressor.predict(X_train), y_train)\n",
    "print('MSE of training set : %f' % train_mse) #트레이닝 셋의 mse\n",
    "\n",
    "test_mse = mean_squared_error(lin_regressor.predict(X_test), y_test)\n",
    "print('MSE of test set : %f' %test_mse) #테스트셋의 mse\n",
    "\n",
    "#1번 끝-----------------------------------------------------------------"
   ]
  },
  {
   "cell_type": "code",
   "execution_count": null,
   "metadata": {
    "id": "VGGOA5QUiVu6"
   },
   "outputs": [],
   "source": []
  },
  {
   "cell_type": "code",
   "execution_count": null,
   "metadata": {
    "colab": {
     "base_uri": "https://localhost:8080/"
    },
    "id": "cyR_Ks0uiait",
    "outputId": "bd43b7b0-673a-42b6-d501-a5a43fccd9fb"
   },
   "outputs": [],
   "source": [
    "#실습과제 2번 ---------------------------------------------------------------------------------------\n",
    "from sklearn.datasets import load_diabetes #사이킷런의 당뇨병 데이터셋 불러오기\n",
    "diabetes = load_diabetes() \n",
    "X=diabetes.data\n",
    "y=diabetes.target\n",
    "\n",
    "#테스트셋과 훈련셋 데이터(입력값) 분리하기\n",
    "X_train = X[:-20] \n",
    "X_test = X[-20:]\n",
    "\n",
    "#테스트셋, 훈련셋 타겟값(출력값) 분리하기\n",
    "y_train = y[:-20]\n",
    "y_test = y[-20:]\n",
    "\n",
    "regr = LinearRegression() #선형회귀 모델 생성\n",
    "regr.fit(X_train, y_train) #training set으로 선형회귀 시행\n",
    "\n",
    "print('Coefficients: ', regr.coef_) # 계수(가중치) 출력\n",
    "print('Intercept: ', regr.intercept_) # 편향(절편) 출력\n",
    "print(\"Mean Squared Error: %0.2f\" % np.mean((regr.predict(X_test) - y_test) ** 2)) # MSE 출력\n",
    "print(\"TrainSet score: %0.2f\" % regr.score(X_train, y_train)) #훈련 데이터 성능(정확도?)출력\n",
    "print(\"TestSet score: %0.2f\" % regr.score(X_test, y_test)) #테스트 데이터 성능(정확도?)출력\n",
    "\n",
    "#2번 끝 -----------------------------------------------------------------"
   ]
  },
  {
   "cell_type": "code",
   "execution_count": null,
   "metadata": {
    "colab": {
     "base_uri": "https://localhost:8080/"
    },
    "id": "QfHzWupVnKvj",
    "outputId": "66b63544-e153-4f5b-9361-bc5464898015"
   },
   "outputs": [],
   "source": [
    "#실습과제 3번 Ridge회귀 시행\n",
    "from sklearn.linear_model import Ridge #릿지 클래스 불러오기\n",
    "\n",
    "#릿지 객체 생성 1\n",
    "rdg = Ridge() #알파값(패널티) 1\n",
    "rdg.fit(X_train, y_train) #릿지 회귀 시행\n",
    "print('============================릿지 객체 1============================')\n",
    "print(rdg)\n",
    "print('Training score : {:.3f}'.format(rdg.score(X_train, y_train)))\n",
    "print('Test score: {:.3f}'.format(rdg.score(X_test, y_test)))\n",
    "\n",
    "#릿지 객체 생성 2\n",
    "rdg01 = Ridge(alpha=0.1) # 알파값이 0.1\n",
    "rdg01.fit(X_train, y_train)\n",
    "print('============================릿지 객체 2============================')\n",
    "print(rdg01)\n",
    "print('Training score : {:.3f}'.format(rdg01.score(X_train, y_train)))\n",
    "print('Test score: {:.3f}'.format(rdg01.score(X_test, y_test)))\n",
    "#릿지 객체 생성 3\n",
    "rdg02 = Ridge(alpha = 0.01) #알파값 0.01\n",
    "rdg02.fit(X_train, y_train)\n",
    "print('============================릿지 객체 3============================')\n",
    "print(rdg02)\n",
    "print('Training score : {:.3f}'.format(rdg02.score(X_train, y_train)))\n",
    "print('Test score: {:.3f}'.format(rdg02.score(X_test, y_test)))\n",
    "#릿지 객체 생성 4\n",
    "rdg03 = Ridge(alpha = 10) #알파값 10\n",
    "rdg03.fit(X_train, y_train)\n",
    "print('============================릿지 객체 4============================')\n",
    "print(rdg03)\n",
    "print('Training score : {:.3f}'.format(rdg03.score(X_train, y_train)))\n",
    "print('Test score: {:.3f}'.format(rdg03.score(X_test, y_test)))\n",
    "\n"
   ]
  },
  {
   "cell_type": "code",
   "execution_count": null,
   "metadata": {
    "colab": {
     "base_uri": "https://localhost:8080/"
    },
    "id": "2QPdlXMct9Im",
    "outputId": "fbe2b546-789a-4eb6-e0d8-a114f43cc5d8"
   },
   "outputs": [],
   "source": [
    "#실습과제 3번 Lasso회귀 시행\n",
    "from sklearn.linear_model import Lasso #Lasso 클래스 불러오기\n",
    "\n",
    "print('============================Lasso 객체 1============================')\n",
    "laso01=Lasso() #Lasso 객체 생성\n",
    "laso01.fit(X_train, y_train)\n",
    "print(laso01)\n",
    "print('Training score : {:.3f}'.format(laso01.score(X_train, y_train)))\n",
    "print('Test score: {:.3f}'.format(laso01.score(X_test, y_test)))\n",
    "\n",
    "print('============================Lasso 객체 2============================')\n",
    "laso02=Lasso(alpha = 0.1) #Lasso 객체 생성\n",
    "laso02.fit(X_train, y_train)\n",
    "print(laso02)\n",
    "print('Training score : {:.3f}'.format(laso02.score(X_train, y_train)))\n",
    "print('Test score: {:.3f}'.format(laso02.score(X_test, y_test)))\n",
    "\n",
    "print('============================Lasso 객체 3============================')\n",
    "laso03=Lasso(alpha = 10) #Lasso 객체 생성\n",
    "laso03.fit(X_train, y_train)\n",
    "print(laso03)\n",
    "print('Training score : {:.3f}'.format(laso03.score(X_train, y_train)))\n",
    "print('Test score: {:.3f}'.format(laso03.score(X_test, y_test)))"
   ]
  }
 ],
 "metadata": {
  "colab": {
   "collapsed_sections": [],
   "name": "20181907 장명훈 실습과제 9",
   "provenance": []
  },
  "kernelspec": {
   "display_name": "Python 3",
   "language": "python",
   "name": "python3"
  },
  "language_info": {
   "codemirror_mode": {
    "name": "ipython",
    "version": 3
   },
   "file_extension": ".py",
   "mimetype": "text/x-python",
   "name": "python",
   "nbconvert_exporter": "python",
   "pygments_lexer": "ipython3",
   "version": "3.8.5"
  }
 },
 "nbformat": 4,
 "nbformat_minor": 1
}
