{
 "cells": [
  {
   "cell_type": "markdown",
   "metadata": {
    "id": "lTGcKSGH5hhF"
   },
   "source": [
    "#1. 사이킷런 KNN 으로 MNIST 분류하기, 좋은 파라미터를 찾는 방법을 알아보자."
   ]
  },
  {
   "cell_type": "code",
   "execution_count": 1,
   "metadata": {
    "id": "HQOcWyNB6M0C"
   },
   "outputs": [],
   "source": [
    "import numpy as np\n",
    "import pandas as pd\n",
    "import matplotlib.pyplot as plt\n",
    "%matplotlib inline"
   ]
  },
  {
   "cell_type": "code",
   "execution_count": null,
   "metadata": {
    "colab": {
     "base_uri": "https://localhost:8080/"
    },
    "id": "cZTw_BYB7p-H",
    "outputId": "fd698b80-2cd2-45ff-9aa9-12dcab6faedc"
   },
   "outputs": [],
   "source": [
    "from sklearn.datasets import fetch_openml\n",
    "from sklearn.neighbors import KNeighborsClassifier\n",
    "from sklearn.metrics import accuracy_score\n",
    "\n",
    "# 데이터셋 불러오기, \n",
    "mnist = fetch_openml('mnist_784', as_frame=False)\n",
    "X, y = mnist[\"data\"], mnist[\"target\"]\n",
    "print(X.shape, y.shape) # 자료 크기\n",
    "\n",
    "# 교육용 5만개 분리\n",
    "num = 50000\n",
    "X_train, X_test, y_train, y_test = X[:num], X[num:], y[:num], y[num:]\n",
    "\n",
    "# 트레인 세트 셔플, \n",
    "shuffle_index = np.random.permutation(num)\n",
    "X_train, y_train = X_train[shuffle_index], y_train[shuffle_index]\n",
    "\n",
    "# knn으로 피팅\n",
    "knn_clf = KNeighborsClassifier(n_jobs=-1,weights ='distance', n_neighbors=3)\n",
    "knn_clf.fit(X_train,y_train)\n",
    "\n",
    "# knn 피팅한 모델과 테스트셋 정밀도 \n",
    "y_knn_pred = knn_clf.predict(X_test)\n",
    "accuracy_score(y_test,y_knn_pred)"
   ]
  },
  {
   "cell_type": "code",
   "execution_count": null,
   "metadata": {
    "colab": {
     "base_uri": "https://localhost:8080/"
    },
    "id": "xaw3WrI49rIb",
    "outputId": "50f04de4-e33e-4ad1-bcd4-b2219269b404"
   },
   "outputs": [],
   "source": [
    "from sklearn.metrics import classification_report\n",
    "print(classification_report(y_test,y_knn_pred))"
   ]
  },
  {
   "cell_type": "code",
   "execution_count": null,
   "metadata": {
    "colab": {
     "base_uri": "https://localhost:8080/"
    },
    "id": "9Gn1F4xMDWyn",
    "outputId": "814e8928-358b-4062-88a4-28a95b436870"
   },
   "outputs": [],
   "source": [
    "knn_clf2 = KNeighborsClassifier(n_jobs=-1,weights ='distance', n_neighbors=4)\n",
    "knn_clf2.fit(X_train,y_train)\n",
    "\n",
    "# knn 피팅한 모델과 테스트셋 정밀도 \n",
    "y_knn_pred2 = knn_clf2.predict(X_test)\n",
    "accuracy_score(y_test,y_knn_pred2)"
   ]
  },
  {
   "cell_type": "code",
   "execution_count": null,
   "metadata": {
    "colab": {
     "base_uri": "https://localhost:8080/"
    },
    "id": "chAtC1w0IFiM",
    "outputId": "b08b2805-3a6c-4701-b0cd-dbc8fb91594c"
   },
   "outputs": [],
   "source": [
    "from sklearn.metrics import classification_report\n",
    "print(classification_report(y_test,y_knn_pred2))"
   ]
  },
  {
   "cell_type": "markdown",
   "metadata": {
    "id": "Yg6s1WpbPsh4"
   },
   "source": [
    "#2. MNIST 데이터를 MLPClassifier 만들기"
   ]
  },
  {
   "cell_type": "code",
   "execution_count": null,
   "metadata": {
    "colab": {
     "base_uri": "https://localhost:8080/"
    },
    "id": "89tv9YbgPqsm",
    "outputId": "b234d4fc-1602-4853-cc1c-7668b31f828f"
   },
   "outputs": [],
   "source": [
    "from sklearn.neural_network import MLPClassifier\n",
    "mlp = MLPClassifier()\n",
    "mlp.fit(X_train, y_train)\n",
    "y_mlp_pred = mlp.predict(X_test)\n",
    "accuracy_score(y_test,y_mlp_pred)"
   ]
  },
  {
   "cell_type": "code",
   "execution_count": null,
   "metadata": {
    "colab": {
     "base_uri": "https://localhost:8080/"
    },
    "id": "NtuEK-_1IRGn",
    "outputId": "bb815f63-3f12-431b-c816-6583a53e85d8"
   },
   "outputs": [],
   "source": [
    "mlp"
   ]
  },
  {
   "cell_type": "code",
   "execution_count": null,
   "metadata": {
    "colab": {
     "base_uri": "https://localhost:8080/"
    },
    "id": "8l6XVbWAT3pb",
    "outputId": "9ee2183b-781d-414b-8dcb-e886d1c21d4c"
   },
   "outputs": [],
   "source": [
    "from time import time\n",
    "i = 0\n",
    "df = pd.DataFrame(columns = ['alpha','max_iter','train_acc','test_acc','train_time'])\n",
    "for a in [0.00001,0.0001,0.001,0.01, 0.1, 1, 10]:\n",
    "    for mi in [10,100,200,500,1000,2000]:\n",
    "        st = time()\n",
    "        mlp = MLPClassifier(alpha=a, max_iter=mi)\n",
    "        mlp.fit(X_train, y_train)\n",
    "        end = time() - st\n",
    "        \n",
    "        acc_tr = accuracy_score(y_train, mlp.predict(X_train)) # Train Accuracy\n",
    "        acc = accuracy_score(y_test, mlp.predict(X_test)) # Test Accuracy\n",
    "        df.loc[i] = [a,mi,acc_tr,acc,end]\n",
    "        i=i+1"
   ]
  },
  {
   "cell_type": "code",
   "execution_count": null,
   "metadata": {
    "colab": {
     "base_uri": "https://localhost:8080/",
     "height": 1000
    },
    "id": "Dt2ciStYoPkK",
    "outputId": "a747d208-edcd-497d-be10-b3288e65ef28"
   },
   "outputs": [],
   "source": [
    "df"
   ]
  },
  {
   "cell_type": "markdown",
   "metadata": {
    "id": "g7htRa6Dou9Q"
   },
   "source": [
    "#3. mnist 데이터 GaussianNB 만들기"
   ]
  },
  {
   "cell_type": "code",
   "execution_count": null,
   "metadata": {
    "colab": {
     "base_uri": "https://localhost:8080/"
    },
    "id": "aTovFUmFomJM",
    "outputId": "1747c1f5-2cc2-47c7-9785-2cb508dd0069"
   },
   "outputs": [],
   "source": [
    "from sklearn.naive_bayes import GaussianNB\n",
    "gnb=GaussianNB()\n",
    "gnb"
   ]
  },
  {
   "cell_type": "code",
   "execution_count": null,
   "metadata": {
    "colab": {
     "base_uri": "https://localhost:8080/"
    },
    "id": "0UDIANPlpm_7",
    "outputId": "1d8fd799-4867-4cee-c433-3934888747fd"
   },
   "outputs": [],
   "source": [
    "gnb.fit(X_train,y_train)\n",
    "\n",
    "# gnb 피팅한 모델과 테스트셋 정밀도 \n",
    "y_gnb_pred = gnb.predict(X_test)\n",
    "accuracy_score(y_test,y_gnb_pred)"
   ]
  },
  {
   "cell_type": "code",
   "execution_count": null,
   "metadata": {
    "colab": {
     "base_uri": "https://localhost:8080/"
    },
    "id": "shLTHJMgq4ex",
    "outputId": "706bcffd-6269-4259-8e73-1581a65212b0"
   },
   "outputs": [],
   "source": [
    "from sklearn.metrics import confusion_matrix\n",
    "print(confusion_matrix(y_test,y_gnb_pred))"
   ]
  },
  {
   "cell_type": "code",
   "execution_count": null,
   "metadata": {
    "colab": {
     "base_uri": "https://localhost:8080/"
    },
    "id": "DuxeR_USrL9w",
    "outputId": "5673876e-45da-4333-821a-f7476a8222c6"
   },
   "outputs": [],
   "source": [
    "print(confusion_matrix(y_train,gnb.predict(X_train)))"
   ]
  },
  {
   "cell_type": "code",
   "execution_count": null,
   "metadata": {
    "colab": {
     "base_uri": "https://localhost:8080/"
    },
    "id": "PWcwQTlLr2CP",
    "outputId": "5ad939e5-1812-4e5c-b784-adf6761f9bcf"
   },
   "outputs": [],
   "source": [
    "from sklearn.model_selection import cross_val_score\n",
    "cross_val_score(gnb, X_train, y_train, cv=3, scoring=\"accuracy\")"
   ]
  },
  {
   "cell_type": "code",
   "execution_count": null,
   "metadata": {
    "colab": {
     "base_uri": "https://localhost:8080/"
    },
    "id": "xAmGV4XHstgF",
    "outputId": "3f2653d3-868e-4d87-a5e7-b8ccbe4fd575"
   },
   "outputs": [],
   "source": [
    "from sklearn.naive_bayes import MultinomialNB\n",
    "mnb=MultinomialNB()\n",
    "mnb"
   ]
  },
  {
   "cell_type": "code",
   "execution_count": null,
   "metadata": {
    "colab": {
     "base_uri": "https://localhost:8080/"
    },
    "id": "AytRi_VLs9y6",
    "outputId": "48d5e337-e2fb-4272-9f9b-46316b0a84a0"
   },
   "outputs": [],
   "source": [
    "mnb.fit(X_train,y_train)\n",
    "\n",
    "# gnb 피팅한 모델과 테스트셋 정밀도 \n",
    "y_mnb_pred = mnb.predict(X_test)\n",
    "accuracy_score(y_test,y_mnb_pred)"
   ]
  },
  {
   "cell_type": "markdown",
   "metadata": {
    "id": "8g1YoRT4tJCO"
   },
   "source": [
    "#4. 아이리스 데이터셋 꽃잎길이로 setosa를 분류"
   ]
  },
  {
   "cell_type": "code",
   "execution_count": null,
   "metadata": {
    "colab": {
     "base_uri": "https://localhost:8080/"
    },
    "id": "nunAhOeytWS8",
    "outputId": "5ccdc979-682e-4f38-b10b-98bf96dd3ae1"
   },
   "outputs": [],
   "source": [
    "from sklearn import datasets\n",
    "from sklearn.linear_model import LogisticRegression\n",
    "\n",
    "iris = datasets.load_iris()\n",
    "\n",
    "# setosa 만 True\n",
    "print(iris['target_names']) # setosa = 0번 자료\n",
    "y = (iris[\"target\"] == 0).astype(np.int)\n",
    "\n",
    "print(iris['feature_names']) # setosa = 0번 자료\n",
    "X = iris[\"data\"][:,2].reshape(-1,1) # reshape 안맞춰주면 에러남\n",
    "\n",
    "test = [[5.7],[1.5]]\n",
    "log_reg = LogisticRegression().fit(X, y)\n",
    "predic = log_reg.predict_proba(test)\n",
    "\n",
    "for i in range(len(test)):\n",
    "    print(\"\\n꽃잎의 길이 :\",*test[i])\n",
    "    if predic[i][0] >= 0.5 : print(int(100*predic[i][0]),\"% 확률로 setosa\")\n",
    "    else : print(int(100*predic[i][1]),\"% 확률로 setosa 아님\")"
   ]
  },
  {
   "cell_type": "code",
   "execution_count": null,
   "metadata": {
    "id": "lSOFxgakt5mK"
   },
   "outputs": [],
   "source": [
    "# 그림 그릴 자료\n",
    "\n",
    "X_new = np.linspace(0,10,1000).reshape(-1,1)\n",
    "y_proba = log_reg.predict_proba(X_new) # 확률을 나타냄\n",
    "decision_boundary = X_new[y_proba[:,1]<=0.5][0] \n",
    "# 확률이 50%가 넘어가는 X_new 중에 가장 낮은  요소"
   ]
  },
  {
   "cell_type": "code",
   "execution_count": null,
   "metadata": {
    "colab": {
     "base_uri": "https://localhost:8080/",
     "height": 286
    },
    "id": "fv0puaFFt7hh",
    "outputId": "ca81f08a-dfb6-4285-e597-167bdf4f50f1"
   },
   "outputs": [],
   "source": [
    "import matplotlib.pyplot as plt\n",
    "\n",
    "plt.figure(figsize=(8,3))\n",
    "plt.plot(X[y==0],y[y==0],\"bs\")\n",
    "plt.plot(X[y==1],y[y==1],\"g^\")\n",
    "\n",
    "plt.plot(X_new,y_proba[:,1],\"g-\",linewidth=2, label=\"iris-Setosa\")\n",
    "plt.plot(X_new,y_proba[:,0], \"b--\", linewidth=2, label=\"NOt iris-setosa\")\n",
    "\n",
    "plt.text(decision_boundary,0.6,\"decision boundary\",fontsize=14, color=\"k\", ha=\"center\")\n",
    "plt.plot([decision_boundary, decision_boundary],[0,1],\"k:\",linewidth=2, label=\"decision boundary\")\n",
    "plt.arrow(decision_boundary, 0.8,0.3,0,head_width = 0.05, head_length=0.1, fc='b', ec='b')\n",
    "plt.arrow(decision_boundary, 0.8,-0.3,0,head_width = 0.05, head_length=0.1, fc='g', ec='g')\n",
    "\n",
    "plt.xlabel(\"length of sepal (cm)\",fontsize=14)\n",
    "plt.ylabel(\"Prabability\",fontsize=14)\n",
    "plt.legend(loc = \"center right\",fontsize=14)\n",
    "\n",
    "plt.axis([0,10,-0.02,1.02])\n",
    "plt.show()"
   ]
  },
  {
   "cell_type": "markdown",
   "metadata": {
    "id": "_XYBZW3juI3e"
   },
   "source": [
    "#5. 아이리스 데이터 셋 테스트셋, 트레인셋 나누고 LDA, 소프트맥스 분류기 만들고 classification report와 confusion matrix 출력"
   ]
  },
  {
   "cell_type": "code",
   "execution_count": null,
   "metadata": {
    "id": "e9jiC3dmuGKn"
   },
   "outputs": [],
   "source": [
    "import numpy as np\n",
    "import matplotlib.pyplot as plt\n",
    "\n",
    "from sklearn import datasets\n",
    "from sklearn import metrics \n",
    "\n",
    "from sklearn.linear_model import LogisticRegression\n",
    "from sklearn.model_selection import train_test_split\n",
    "from sklearn.model_selection import cross_val_score\n",
    "from sklearn.discriminant_analysis import LinearDiscriminantAnalysis"
   ]
  },
  {
   "cell_type": "code",
   "execution_count": null,
   "metadata": {
    "colab": {
     "base_uri": "https://localhost:8080/"
    },
    "id": "xXCFmw5MvAwO",
    "outputId": "e58e1db1-c6c4-4cbc-df99-bf844e1310d6"
   },
   "outputs": [],
   "source": [
    "# 데이터 불러오기\n",
    "iris = datasets.load_iris()\n",
    "X,y = iris['data'], iris['target']\n",
    "\n",
    "# 8:2 로 데이터셋 나눔.\n",
    "X_train, X_test, y_train, y_test = train_test_split(X,y, random_state=103, test_size=0.2, stratify=y)\n",
    "\n",
    "softmax_reg = LogisticRegression(multi_class=\"multinomial\",C=10,random_state=42, max_iter=1000, solver='lbfgs')\n",
    "softmax_reg.fit(X_train,y_train)\n"
   ]
  },
  {
   "cell_type": "code",
   "execution_count": null,
   "metadata": {
    "colab": {
     "base_uri": "https://localhost:8080/"
    },
    "id": "MizCr-jHvMCp",
    "outputId": "56d7a89e-997d-483e-f87e-6a504e5b3b76"
   },
   "outputs": [],
   "source": [
    "predicted_y = softmax_reg.predict(X_test)\n",
    "\n",
    "print();print(metrics.classification_report(y_test,predicted_y))\n",
    "print();print(metrics.confusion_matrix(y_test,predicted_y))"
   ]
  },
  {
   "cell_type": "code",
   "execution_count": null,
   "metadata": {
    "colab": {
     "base_uri": "https://localhost:8080/"
    },
    "id": "-kTYp_ODvg_i",
    "outputId": "b6ee02ea-82fd-4253-8edf-df563bd26d4f"
   },
   "outputs": [],
   "source": [
    "clf = LinearDiscriminantAnalysis()\n",
    "clf.fit(X_train,y_train)\n",
    "\n",
    "expected_y = y_test\n",
    "predicted_y = clf.predict(X_test)\n",
    "\n",
    "print();print(metrics.classification_report(expected_y,predicted_y))\n",
    "print();print(metrics.confusion_matrix(expected_y,predicted_y))"
   ]
  }
 ],
 "metadata": {
  "colab": {
   "collapsed_sections": [],
   "name": "week10-실습과제.ipynb",
   "provenance": []
  },
  "kernelspec": {
   "display_name": "Python 3",
   "language": "python",
   "name": "python3"
  },
  "language_info": {
   "codemirror_mode": {
    "name": "ipython",
    "version": 3
   },
   "file_extension": ".py",
   "mimetype": "text/x-python",
   "name": "python",
   "nbconvert_exporter": "python",
   "pygments_lexer": "ipython3",
   "version": "3.8.5"
  }
 },
 "nbformat": 4,
 "nbformat_minor": 1
}
